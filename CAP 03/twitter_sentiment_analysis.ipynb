{
 "cells": [
  {
   "cell_type": "code",
   "execution_count": 150,
   "id": "f7bc699f",
   "metadata": {},
   "outputs": [],
   "source": [
    "import string"
   ]
  },
  {
   "cell_type": "code",
   "execution_count": 151,
   "id": "143db1f3",
   "metadata": {},
   "outputs": [],
   "source": [
    "tweets = [\n",
    "    \"Wow, what a great day today!! #sunshine\",\n",
    "    \"I feel sad about the things going on around us. #covid19\",\n",
    "    \"I'm really excited to learn Python with @JovianML #zerotopandas\",\n",
    "    \"This is a really nice song. #linkinpark\",\n",
    "    \"The python programming language is useful for data science\",\n",
    "    \"Why do bad things happen to me?\",\n",
    "    \"Apple announces the release of the new iPhone 12. Fans are excited\",\n",
    "    \"Spend my day with family!! #happy\",\n",
    "    \"Check out my blog post on common string operations in Python. #zerotopandas\",\n",
    "    \"Freecodecamp has great coding tutorials. #skillup\"\n",
    "    ]"
   ]
  },
  {
   "cell_type": "code",
   "execution_count": 152,
   "id": "92d4e08f",
   "metadata": {},
   "outputs": [],
   "source": [
    "# Funções\n",
    "\n",
    "def apaga(tweets):\n",
    "    \"\"\"\"É uma função para remover qualquer pontuação (.,:;!@#?) que esteja\n",
    "    para facilitar na identificação de humor no tweet\n",
    "    \n",
    "    >>> apaga('Spend my day with family!! #happy')\n",
    "    \n",
    "    Spend my day with family happy\n",
    "    \"\"\"\n",
    "    tweet = []\n",
    "    for i in tweets:\n",
    "        tweet.append(i.translate(str.maketrans('', '', string.punctuation)))\n",
    "        \n",
    "    return tweet\n",
    "\n",
    "def identificacaoFeliz(tweet):\n",
    "    \"\"\"\"É uma função para verficar se uma frase contém uma palavra considerada\n",
    "    feliz\n",
    "    \n",
    "    >>> identificacaoFeliz('Why do bad things happen to me?')\n",
    "    \n",
    "    False\n",
    "    \n",
    "    >>> identificacaoFeliz('Spend my day with family!! #happy')\n",
    "    \n",
    "    True\n",
    "    \"\"\"\n",
    "    \n",
    "    happy_words = ['great', 'excited', 'happy', 'nice', 'wonderful', 'amazing', 'good', 'best']\n",
    "    \n",
    "    i = 0\n",
    "    j = 0\n",
    "    while i < len(happy_words):\n",
    "        while j < len(tweet):\n",
    "            if tweet[j] == happy_words[i]:\n",
    "                return True\n",
    "            j += 1\n",
    "        i += 1\n",
    "        j = 0\n",
    "    return False\n",
    "\n",
    "def identificacaoTriste(tweet):\n",
    "    \"\"\"\"É uma função para verficar se uma frase contém uma palavra considerada\n",
    "    triste\n",
    "    \n",
    "    >>> identificacaoTriste('Why do bad things happen to me?')\n",
    "    \n",
    "    True\n",
    "    \n",
    "    >>> identificacaoTriste('Spend my day with family!! #happy')\n",
    "    \n",
    "    False\n",
    "    \"\"\"\n",
    "    \n",
    "    sad_words = ['sad', 'bad', 'tragic', 'unhappy', 'worst']\n",
    "    \n",
    "    i = 0\n",
    "    j = 0\n",
    "    while i < len(sad_words):\n",
    "        while j < len(tweet):\n",
    "            if tweet[j] == sad_words[i]:\n",
    "                return True\n",
    "            j += 1\n",
    "        i += 1\n",
    "        j = 0\n",
    "    return False"
   ]
  },
  {
   "cell_type": "code",
   "execution_count": 153,
   "id": "381f5ed2",
   "metadata": {},
   "outputs": [
    {
     "name": "stdout",
     "output_type": "stream",
     "text": [
      "Existem 10 tweets nesse banco de dados\n"
     ]
    }
   ],
   "source": [
    "# 1. Quantos tweets existem nesse banco de dados?\n",
    "print(\"Existem\", len(tweets), \"tweets nesse banco de dados\")"
   ]
  },
  {
   "cell_type": "code",
   "execution_count": 154,
   "id": "02ad373b",
   "metadata": {},
   "outputs": [
    {
     "name": "stdout",
     "output_type": "stream",
     "text": [
      "\"Wow, what a great day today!! #sunshine\" é um tweet feliz\n",
      "\"I feel sad about the things going on around us. #covid19\" é um tweet triste\n",
      "\"I'm really excited to learn Python with @JovianML #zerotopandas\" é um tweet feliz\n",
      "\"This is a really nice song. #linkinpark\" é um tweet feliz\n",
      "\"The python programming language is useful for data science\" é um tweet neutro\n",
      "\"Why do bad things happen to me?\" é um tweet triste\n",
      "\"Apple announces the release of the new iPhone 12. Fans are excited\" é um tweet feliz\n",
      "\"Spend my day with family!! #happy\" é um tweet feliz\n",
      "\"Check out my blog post on common string operations in Python. #zerotopandas\" é um tweet neutro\n",
      "\"Freecodecamp has great coding tutorials. #skillup\" é um tweet feliz\n"
     ]
    }
   ],
   "source": [
    "# 2. Identifique se os tweets são felizes ou não\n",
    "\n",
    "Newtweets = apaga(tweets)\n",
    "\n",
    "contHappy = 0\n",
    "contSad = 0\n",
    "k = 0\n",
    "for tweet in Newtweets:\n",
    "    s = tweet.split()\n",
    "    # o programa executa o if se alguma palavra contida na variavel 'happy_words' estiver contida na frase\n",
    "    if identificacaoFeliz(s) == True:\n",
    "        print('\"{}\" é um tweet feliz'.format(tweets[k]))\n",
    "        contHappy += 1\n",
    "    # o programa executa o if se alguma palavra contida na variavel 'sad_words' estiver contida na frase\n",
    "    elif identificacaoTriste(s) == True:\n",
    "        print('\"{}\" é um tweet triste'.format(tweets[k]))\n",
    "        contSad += 1\n",
    "    # alguns tweets não possuem palavras consideradas feliz ou palavras consideradas triste, então foi tido como um tweet neutro\n",
    "    else:\n",
    "        print('\"{}\" é um tweet neutro'.format(tweets[k]))\n",
    "    \n",
    "    k += 1\n"
   ]
  },
  {
   "cell_type": "code",
   "execution_count": 155,
   "id": "340b9c1f",
   "metadata": {},
   "outputs": [
    {
     "name": "stdout",
     "output_type": "stream",
     "text": [
      "\n",
      "\n",
      "Existe 6 tweets felizes contidos na lista \"tweets\"\n",
      "Existe 2 tweets tristes contidos na lista \"tweets\"\n"
     ]
    }
   ],
   "source": [
    "print(\"\")\n",
    "print(\"\")\n",
    "# 3. Conte quantos tweets felizes e quantos tweets triste estão\n",
    "# contido na lista \"tweets\"\n",
    "print('Existe {} tweets felizes contidos na lista \"tweets\"'.format(contHappy))\n",
    "print('Existe {} tweets tristes contidos na lista \"tweets\"'.format(contSad))"
   ]
  }
 ],
 "metadata": {
  "kernelspec": {
   "display_name": "Python 3 (ipykernel)",
   "language": "python",
   "name": "python3"
  },
  "language_info": {
   "codemirror_mode": {
    "name": "ipython",
    "version": 3
   },
   "file_extension": ".py",
   "mimetype": "text/x-python",
   "name": "python",
   "nbconvert_exporter": "python",
   "pygments_lexer": "ipython3",
   "version": "3.9.12"
  }
 },
 "nbformat": 4,
 "nbformat_minor": 5
}
