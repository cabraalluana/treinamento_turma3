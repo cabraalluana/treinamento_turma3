{
 "cells": [
  {
   "cell_type": "code",
   "execution_count": 10,
   "id": "255547fa",
   "metadata": {},
   "outputs": [],
   "source": [
    "# Importações de bibliotecas\n",
    "\n",
    "import pandas as pd"
   ]
  },
  {
   "cell_type": "code",
   "execution_count": 11,
   "id": "1769440c",
   "metadata": {},
   "outputs": [],
   "source": [
    "# Leitura de arquivos\n",
    "\n",
    "covid19CleanComplete = pd.read_csv(\"Arquivos csv/covid_19_clean_complete.csv\")\n",
    "worldOMeterData = pd.read_csv(\"Arquivos csv/worldometer_data.csv\")"
   ]
  },
  {
   "cell_type": "code",
   "execution_count": 12,
   "id": "fb26cbce",
   "metadata": {},
   "outputs": [],
   "source": [
    "# Funções\n",
    "\n",
    "def verificarProvinceState(linha):\n",
    "    \"\"\"\"É  uma função que recebe uma linha do banco de dados como argumento e, se a coluna \"Province/State\" não\n",
    "    for valor faltante, seu valor será concatenado a com coluna \"Country/Region\"\"\"\n",
    "    \n",
    "    if pd.notna(linha['Province/State']) == True:\n",
    "        linha['Country/Region'] = linha['Country/Region'] + \"_\" + linha[\n",
    "            'Province/State']\n",
    "        return linha\n",
    "    return linha"
   ]
  },
  {
   "cell_type": "code",
   "execution_count": 13,
   "id": "f5316691",
   "metadata": {},
   "outputs": [
    {
     "name": "stdout",
     "output_type": "stream",
     "text": [
      "O arquivo tem 49068 linhas e 10 colunas\n",
      "\n",
      "As colunas são:\n",
      "- Province/State, Tipo de dado: object\n",
      "- Country/Region, Tipo de dado: object\n",
      "- Lat, Tipo de dado: float64\n",
      "- Long, Tipo de dado: float64\n",
      "- Date, Tipo de dado: object\n",
      "- Confirmed, Tipo de dado: int64\n",
      "- Deaths, Tipo de dado: int64\n",
      "- Recovered, Tipo de dado: int64\n",
      "- Active, Tipo de dado: int64\n",
      "- WHO Region, Tipo de dado: object\n",
      "\n",
      "O tipo de dado da coluna date foi alterado para datetime64[ns]\n",
      "\n",
      "Número médio de casos confirmados: 16884.90\n",
      "Máximo de casos confirmados em um dia: 4290259.0\n",
      "\n",
      "Número médio de mortes confirmados: 884.18\n",
      "Máximo de mortes confirmados em um dia: 148011.0\n",
      "\n",
      "                     min    max\n",
      "Country/Region                \n",
      "Afghanistan           0  36263\n",
      "Albania               0   4880\n",
      "Algeria               0  27973\n",
      "Andorra               0    907\n",
      "Angola                0    950\n",
      "...                 ...    ...\n",
      "West Bank and Gaza    0  10621\n",
      "Western Sahara        0     10\n",
      "Yemen                 0   1691\n",
      "Zambia                0   4552\n",
      "Zimbabwe              0   2704\n",
      "\n",
      "[187 rows x 2 columns]\n",
      "\n",
      "As colunas que apresentam NaN são:\n",
      "- Province/State\n"
     ]
    }
   ],
   "source": [
    "# Questão 01\n",
    "# Letra a - Verificando a quantidade de linhas e colunas\n",
    "print(\"O arquivo tem {} linhas e {} colunas\".format(covid19CleanComplete.shape[0], covid19CleanComplete.shape[1]))\n",
    "\n",
    "# Letra b e c - Verificando os nomes das colunas e qual o tipo de dado de cada uma\n",
    "print(\"\\nAs colunas são:\")\n",
    "for columnsName in covid19CleanComplete.columns:\n",
    "    print(\"- {}, Tipo de dado: {}\".format(columnsName, covid19CleanComplete[columnsName].dtype))\n",
    "    \n",
    "# Letra d - Transformando a coluna Date do tipo \"object\" para o tipo \"datetime64\"\n",
    "covid19CleanComplete[\"Date\"] = pd.to_datetime(covid19CleanComplete[\"Date\"], format=\"%Y-%m-%d\")\n",
    "print(\"\\nO tipo de dado da coluna date foi alterado para\", covid19CleanComplete[\"Date\"].dtype)\n",
    "\n",
    "# Letra e - Estatística sobre o banco de dados\n",
    "# Exibindo a média e número máximo de casos confirmados no Mundo\n",
    "print(\"\\nNúmero médio de casos confirmados: {:.2f}\".format(covid19CleanComplete.Confirmed.describe().loc['mean']))\n",
    "print(\"Máximo de casos confirmados em um dia:\", covid19CleanComplete.Confirmed.describe().loc['max'])\n",
    "\n",
    "# Exibindo a média e número máximo de mortes no Mundo\n",
    "print(\"\\nNúmero médio de mortes confirmados: {:.2f}\".format(covid19CleanComplete.Deaths.describe().loc['mean']))\n",
    "print(\"Máximo de mortes confirmados em um dia:\", covid19CleanComplete.Deaths.describe().loc['max'])\n",
    "\n",
    "# Exibindo número minimo e máximo para cada país\n",
    "print(\"\\n\", covid19CleanComplete.groupby(['Country/Region']).Confirmed.agg([min, max]))\n",
    "\n",
    "# Letra f - Se necessário, transformar colunas pertinentes para formato de data\n",
    "# Não tinha nenhuma outra coluna de data, apenas a que já foi transformada no item d.\n",
    "\n",
    "# Letra g - Colunas que apresentam NaN\n",
    "print(\"\\nAs colunas que apresentam NaN são:\")\n",
    "for columnsName in covid19CleanComplete.columns:\n",
    "    if pd.isnull(covid19CleanComplete[columnsName])[1] == True:\n",
    "        print(\"- {}\".format(columnsName))"
   ]
  },
  {
   "cell_type": "code",
   "execution_count": 14,
   "id": "637cd13f",
   "metadata": {},
   "outputs": [
    {
     "name": "stdout",
     "output_type": "stream",
     "text": [
      "\n",
      " As 5 províncias da China que mais registraram casos foram:\n",
      "0        Hubei\n",
      "1    Hong Kong\n",
      "2    Guangdong\n",
      "3        Henan\n",
      "4     Zhejiang\n",
      "Name: Province/State, dtype: object\n"
     ]
    }
   ],
   "source": [
    "# Questão 02\n",
    "# Letra a, b, c e d - Nome das províncias chinesas contida no dataset e seus dados \"Confirmed\", \"Active\", \"Deaths\", \"Recovered\"\n",
    "# Separando apenas as provincias da China\n",
    "provinceChina = covid19CleanComplete.groupby(['Country/Region', 'Province/State'])[['Confirmed','Active', 'Deaths','Recovered'\n",
    "                                                             ]].max()\n",
    "# Nesse ponto provinceChina é do tipo multi-index, logo é necessário usar o \n",
    "# reset_index() para converter de volta ao index regular\n",
    "provinceChina = provinceChina.reset_index().groupby(['Country/Region']).get_group('China')\n",
    "\n",
    "# Tirando as pronvíncias/estados duplicados\n",
    "provinceChina = provinceChina.drop_duplicates(subset = ['Province/State'])\n",
    "\n",
    "# Letra e - Produza um DataFrame contendo as 5 regiões com maior número de\n",
    "# casos confirmados\n",
    "provinceChina = provinceChina.sort_values(by = 'Confirmed', ascending = False\n",
    "                                          ).head()\n",
    "provinceChina = provinceChina.reset_index()\n",
    "print(\"\\n As 5 províncias da China que mais registraram casos foram:\")\n",
    "print(provinceChina['Province/State'])"
   ]
  },
  {
   "cell_type": "code",
   "execution_count": 15,
   "id": "89998d64",
   "metadata": {},
   "outputs": [
    {
     "name": "stdout",
     "output_type": "stream",
     "text": [
      "              Country/Region        Lat       Long       Date  Confirmed  \\\n",
      "0                Afghanistan  33.939110  67.709953 2020-01-22          0   \n",
      "1                    Albania  41.153300  20.168300 2020-01-22          0   \n",
      "2                    Algeria  28.033900   1.659600 2020-01-22          0   \n",
      "3                    Andorra  42.506300   1.521800 2020-01-22          0   \n",
      "4                     Angola -11.202700  17.873900 2020-01-22          0   \n",
      "...                      ...        ...        ...        ...        ...   \n",
      "49063  Sao Tome and Principe   0.186400   6.613100 2020-07-27        865   \n",
      "49064                  Yemen  15.552727  48.516388 2020-07-27       1691   \n",
      "49065                Comoros -11.645500  43.333300 2020-07-27        354   \n",
      "49066             Tajikistan  38.861000  71.276100 2020-07-27       7235   \n",
      "49067                Lesotho -29.610000  28.233600 2020-07-27        505   \n",
      "\n",
      "       Deaths  Recovered  Active             WHO Region  \n",
      "0           0          0       0  Eastern Mediterranean  \n",
      "1           0          0       0                 Europe  \n",
      "2           0          0       0                 Africa  \n",
      "3           0          0       0                 Europe  \n",
      "4           0          0       0                 Africa  \n",
      "...       ...        ...     ...                    ...  \n",
      "49063      14        734     117                 Africa  \n",
      "49064     483        833     375  Eastern Mediterranean  \n",
      "49065       7        328      19                 Africa  \n",
      "49066      60       6028    1147                 Europe  \n",
      "49067      12        128     365                 Africa  \n",
      "\n",
      "[49068 rows x 9 columns]\n"
     ]
    }
   ],
   "source": [
    "# Questão 03\n",
    "# Letra a - Concatenar o valor da coluna \"Province/State\" com coluna \"Country/Region\"\n",
    "\n",
    "# Letra b - Faça uma cópia do banco de dados para poder retirar informações sem perder o banco de dados original\n",
    "# Letra c - Aplique, por meio da método \"apply\", a função criada no item a\n",
    "newCovid19CleanComplete = covid19CleanComplete.apply(verificarProvinceState, axis=1)\n",
    "\n",
    "# Letra d - Exclua a coluna \"Province/State\" do novo dataframe\n",
    "newCovid19CleanComplete = newCovid19CleanComplete.drop([\"Province/State\"], axis = 1)\n",
    "print(newCovid19CleanComplete)"
   ]
  },
  {
   "cell_type": "code",
   "execution_count": 16,
   "id": "d6eae7ad",
   "metadata": {},
   "outputs": [
    {
     "name": "stdout",
     "output_type": "stream",
     "text": [
      "\n",
      "Ranking de número de mortes por milhão:\n",
      "- Continente: South America - Mortes por milhão: 314.3185130389227\n",
      "- Continente: Europe - Mortes por milhão: 208.59393308569412\n",
      "- Continente: North America - Mortes por milhão: 94.89002716925498\n",
      "- Continente: Asia - Mortes por milhão: 27.016157008918057\n",
      "- Continente: Africa - Mortes por milhão: 13.218306856453369\n",
      "- Continente: Australia/Oceania - Mortes por milhão: 2.58802274305556\n"
     ]
    }
   ],
   "source": [
    "# Questão 04\n",
    "# Letra a - Importar o banco de dados \"wolrd meter data.csv\"\n",
    "\n",
    "# Letra b - Tome apenas as infromações de 'Population', 'Country/Region', 'Continent' do banco de dados do item a\n",
    "worldOMeterData = worldOMeterData[['Population', 'Country/Region', 'Continent']]\n",
    "\n",
    "# Letra c - Agrupe o \"covid_19_clean_complete\" por países.\n",
    "# A função de agregação foi apenas o max das mortes pois é o único dado que importa na questão\n",
    "covid19CleanComplete_country = covid19CleanComplete.groupby(['Country/Region'])[\n",
    "    ['Deaths']].max()\n",
    "covid19CleanComplete_country = covid19CleanComplete_country.reset_index()\n",
    "\n",
    "# Letra d - Mescle os dois dataframe, a partir dos países, contendo apenas as informações de mortes, população e continente\n",
    "covid19_world = pd.merge(covid19CleanComplete_country, worldOMeterData, how = 'outer')\n",
    "\n",
    "# Letra e - Agrupe o novo dataset agora pelo continente\n",
    "covid19_world_continent = covid19_world.groupby(['Continent'])[['Deaths', 'Population']].sum()\n",
    "\n",
    "# Letra f - Crie uma nova coluna contendo o número de mortes por milhão dentro dos continentes\n",
    "deaths_per_million = []\n",
    "for i in range(covid19_world_continent.shape[0]):\n",
    "    if pd.notna(covid19_world_continent['Population'])[i] == True and pd.notna(covid19_world_continent['Deaths'])[i] == True:\n",
    "        deaths_per_million.append((covid19_world_continent['Deaths'][i] / covid19_world_continent['Population'][i])*(10**6))\n",
    "    else:\n",
    "        deaths_per_million.append(0)\n",
    "    i += 1\n",
    "\n",
    "covid19_world_continent['Deaths per million'] = deaths_per_million\n",
    "\n",
    "# Letra g - Faça um ranking do número de mortes por milhão de habitantes entre os continentes\n",
    "covid19_world_continent = covid19_world_continent.sort_values(by = 'Deaths per million', ascending = False)\n",
    "print(\"\\nRanking de número de mortes por milhão:\")\n",
    "covid19_world_continent = covid19_world_continent.reset_index()\n",
    "i = 0\n",
    "while i < covid19_world_continent.shape[0]:\n",
    "    print('- Continente: {} - Mortes por milhão: {}'.format(\n",
    "        covid19_world_continent[\"Continent\"][i], \n",
    "        covid19_world_continent[\"Deaths per million\"][i]))\n",
    "    i += 1"
   ]
  }
 ],
 "metadata": {
  "kernelspec": {
   "display_name": "Python 3 (ipykernel)",
   "language": "python",
   "name": "python3"
  },
  "language_info": {
   "codemirror_mode": {
    "name": "ipython",
    "version": 3
   },
   "file_extension": ".py",
   "mimetype": "text/x-python",
   "name": "python",
   "nbconvert_exporter": "python",
   "pygments_lexer": "ipython3",
   "version": "3.9.12"
  }
 },
 "nbformat": 4,
 "nbformat_minor": 5
}
