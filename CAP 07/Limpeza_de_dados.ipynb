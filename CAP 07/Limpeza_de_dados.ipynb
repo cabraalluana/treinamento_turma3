{
 "cells": [
  {
   "cell_type": "code",
   "execution_count": 19,
   "metadata": {},
   "outputs": [],
   "source": [
    "# Importações\n",
    "\n",
    "import numpy as np\n",
    "import pandas as pd\n",
    "np.random.seed(0)\n",
    "pd.plotting.register_matplotlib_converters()"
   ]
  },
  {
   "cell_type": "code",
   "execution_count": 20,
   "metadata": {},
   "outputs": [],
   "source": [
    "# Leitura de arquivos\n",
    "\n",
    "test = pd.read_csv(\"Arquivos csv/test.csv\")\n",
    "train = pd.read_csv(\"Arquivos csv/train.csv\")"
   ]
  },
  {
   "cell_type": "code",
   "execution_count": 21,
   "metadata": {},
   "outputs": [],
   "source": [
    "# Funções\n",
    "\n",
    "def analiseInicial(df):\n",
    "    \"\"\"A função imprime uma analise inicial, mostrando as colunas, o tipo de dado de cada coluna e quantidade de valores NaN do banco de dado, \"\"\"\n",
    "    for columns in df.columns:\n",
    "        print(\"- {}: \\ndtype: {}; \\n{} valores nulos\".format(columns, df[columns].dtype, pd.isnull(df[columns]).sum()))"
   ]
  },
  {
   "cell_type": "code",
   "execution_count": 22,
   "metadata": {},
   "outputs": [
    {
     "name": "stdout",
     "output_type": "stream",
     "text": [
      "As colunas do banco de dados 'test.csv': \n",
      "- PassengerId: \n",
      "dtype: int64; \n",
      "0 valores nulos\n",
      "- Pclass: \n",
      "dtype: int64; \n",
      "0 valores nulos\n",
      "- Name: \n",
      "dtype: object; \n",
      "0 valores nulos\n",
      "- Sex: \n",
      "dtype: object; \n",
      "0 valores nulos\n",
      "- Age: \n",
      "dtype: float64; \n",
      "86 valores nulos\n",
      "- SibSp: \n",
      "dtype: int64; \n",
      "0 valores nulos\n",
      "- Parch: \n",
      "dtype: int64; \n",
      "0 valores nulos\n",
      "- Ticket: \n",
      "dtype: object; \n",
      "0 valores nulos\n",
      "- Fare: \n",
      "dtype: float64; \n",
      "1 valores nulos\n",
      "- Cabin: \n",
      "dtype: object; \n",
      "327 valores nulos\n",
      "- Embarked: \n",
      "dtype: object; \n",
      "0 valores nulos\n",
      "\n",
      "As colunas do banco de dados 'train.csv': \n",
      "- PassengerId: \n",
      "dtype: int64; \n",
      "0 valores nulos\n",
      "- Survived: \n",
      "dtype: int64; \n",
      "0 valores nulos\n",
      "- Pclass: \n",
      "dtype: int64; \n",
      "0 valores nulos\n",
      "- Name: \n",
      "dtype: object; \n",
      "0 valores nulos\n",
      "- Sex: \n",
      "dtype: object; \n",
      "0 valores nulos\n",
      "- Age: \n",
      "dtype: float64; \n",
      "177 valores nulos\n",
      "- SibSp: \n",
      "dtype: int64; \n",
      "0 valores nulos\n",
      "- Parch: \n",
      "dtype: int64; \n",
      "0 valores nulos\n",
      "- Ticket: \n",
      "dtype: object; \n",
      "0 valores nulos\n",
      "- Fare: \n",
      "dtype: float64; \n",
      "0 valores nulos\n",
      "- Cabin: \n",
      "dtype: object; \n",
      "687 valores nulos\n",
      "- Embarked: \n",
      "dtype: object; \n",
      "2 valores nulos\n"
     ]
    }
   ],
   "source": [
    "# Questão 01\n",
    "\n",
    "print(\"As colunas do banco de dados 'test.csv': \")\n",
    "analiseInicial(test)\n",
    "\n",
    "print(\"\\nAs colunas do banco de dados 'train.csv': \")\n",
    "analiseInicial(train)\n",
    "\n",
    "# Cópia do banco de dados test e train\n",
    "newTest = test\n",
    "newTrain = train"
   ]
  },
  {
   "cell_type": "code",
   "execution_count": 23,
   "metadata": {},
   "outputs": [],
   "source": [
    "# Questão 02\n",
    "newTest = newTest.drop(['Cabin', 'Ticket'], axis = 1)\n",
    "newTrain = newTrain.drop(['Cabin', 'Ticket'], axis = 1)\n",
    "\n",
    "newTest['Age'] = newTest['Age'].fillna(newTest['Age'].median())\n",
    "newTrain['Age'] = newTrain['Age'].fillna(newTrain['Age'].median())\n",
    "\n",
    "newTest['Fare'] = newTest['Fare'].fillna(newTest['Fare'].median())\n",
    "newTrain['Fare'] = newTrain['Fare'].fillna(newTrain['Fare'].median())\n",
    "\n",
    "newTest['Embarked'] = newTest['Embarked'].fillna(newTest['Embarked'].mode()[0])\n",
    "newTrain['Embarked'] = newTrain['Embarked'].fillna(newTrain['Embarked'].mode()[0])"
   ]
  },
  {
   "cell_type": "code",
   "execution_count": 24,
   "metadata": {},
   "outputs": [
    {
     "name": "stdout",
     "output_type": "stream",
     "text": [
      "Banco de dados 'test.csv' manipulado: \n",
      "    PassengerId  Pclass                                          Name     Sex  \\\n",
      "0          892       3                              Kelly, Mr. James    male   \n",
      "1          893       3              Wilkes, Mrs. James (Ellen Needs)  female   \n",
      "2          894       2                     Myles, Mr. Thomas Francis    male   \n",
      "3          895       3                              Wirz, Mr. Albert    male   \n",
      "4          896       3  Hirvonen, Mrs. Alexander (Helga E Lindqvist)  female   \n",
      "\n",
      "    Age  SibSp  Parch     Fare Embarked          GroupAge        GroupFare  \n",
      "0  34.5      0      0   7.8292        Q  (30.502, 45.668]   (7.762, 8.662]  \n",
      "1  47.0      1      0   7.0000        S  (45.668, 60.834]  (-0.001, 7.762]  \n",
      "2  62.0      0      0   9.6875        Q    (60.834, 76.0]  (8.662, 14.454]  \n",
      "3  27.0      0      0   8.6625        S  (15.336, 30.502]   (7.762, 8.662]  \n",
      "4  22.0      1      1  12.2875        S  (15.336, 30.502]  (8.662, 14.454]  \n",
      "\n",
      "Banco de dados 'train.csv' manipulado: \n",
      "    PassengerId  Survived  Pclass  \\\n",
      "0            1         0       3   \n",
      "1            2         1       1   \n",
      "2            3         1       3   \n",
      "3            4         1       1   \n",
      "4            5         0       3   \n",
      "\n",
      "                                                Name     Sex   Age  SibSp  \\\n",
      "0                            Braund, Mr. Owen Harris    male  22.0      1   \n",
      "1  Cumings, Mrs. John Bradley (Florence Briggs Th...  female  38.0      1   \n",
      "2                             Heikkinen, Miss. Laina  female  26.0      0   \n",
      "3       Futrelle, Mrs. Jacques Heath (Lily May Peel)  female  35.0      1   \n",
      "4                           Allen, Mr. William Henry    male  35.0      0   \n",
      "\n",
      "   Parch     Fare Embarked          GroupAge          GroupFare  \n",
      "0      0   7.2500        S  (16.336, 32.252]    (-0.001, 7.775]  \n",
      "1      0  71.2833        C  (32.252, 48.168]  (52.369, 512.329]  \n",
      "2      0   7.9250        S  (16.336, 32.252]     (7.775, 8.662]  \n",
      "3      0  53.1000        S  (32.252, 48.168]  (52.369, 512.329]  \n",
      "4      0   8.0500        S  (32.252, 48.168]     (7.775, 8.662]  \n"
     ]
    }
   ],
   "source": [
    "# Questão 03\n",
    "newTest['GroupAge'] = pd.cut(newTest['Age'], bins = 5, right = True)\n",
    "newTest['GroupFare'] = pd.qcut(newTest['Fare'], q = 6)\n",
    "\n",
    "newTrain['GroupAge'] = pd.cut(newTrain['Age'], bins = 5, right = True)\n",
    "newTrain['GroupFare'] = pd.qcut(newTrain['Fare'], q = 6)\n",
    "\n",
    "print(\"Banco de dados 'test.csv' manipulado: \\n\", newTest.head())\n",
    "print(\"\\nBanco de dados 'train.csv' manipulado: \\n\", newTrain.head())"
   ]
  }
 ],
 "metadata": {
  "kernelspec": {
   "display_name": "base",
   "language": "python",
   "name": "python3"
  },
  "language_info": {
   "codemirror_mode": {
    "name": "ipython",
    "version": 3
   },
   "file_extension": ".py",
   "mimetype": "text/x-python",
   "name": "python",
   "nbconvert_exporter": "python",
   "pygments_lexer": "ipython3",
   "version": "3.9.12"
  },
  "orig_nbformat": 4,
  "vscode": {
   "interpreter": {
    "hash": "604d36363eafd9e67c1f556089da69fa54f9731189d50fdd5ef0c173bfd24ffb"
   }
  }
 },
 "nbformat": 4,
 "nbformat_minor": 2
}
